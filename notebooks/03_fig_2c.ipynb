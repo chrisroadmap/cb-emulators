{
 "cells": [
  {
   "cell_type": "code",
   "execution_count": 1,
   "id": "8029d573",
   "metadata": {},
   "outputs": [],
   "source": [
    "import pandas as pd\n",
    "import matplotlib.pyplot as pl\n",
    "import numpy as np"
   ]
  },
  {
   "cell_type": "code",
   "execution_count": 2,
   "id": "302dfe7c",
   "metadata": {},
   "outputs": [],
   "source": [
    "pl.rcParams['figure.figsize'] = (9/2.54, 7/2.54)\n",
    "pl.rcParams['font.size'] = 9\n",
    "pl.rcParams['font.family'] = 'Arial'\n",
    "pl.rcParams['xtick.direction'] = 'out'\n",
    "pl.rcParams['xtick.minor.visible'] = True\n",
    "pl.rcParams['ytick.minor.visible'] = True\n",
    "pl.rcParams['ytick.right'] = True\n",
    "pl.rcParams['xtick.top'] = True\n",
    "pl.rcParams['figure.dpi'] = 150"
   ]
  },
  {
   "cell_type": "code",
   "execution_count": 3,
   "id": "5e9a1aa0",
   "metadata": {},
   "outputs": [],
   "source": [
    "df = pd.read_csv('../data_input/SPM2c_data.csv')"
   ]
  },
  {
   "cell_type": "code",
   "execution_count": 4,
   "id": "acc8a930",
   "metadata": {},
   "outputs": [
    {
     "data": {
      "text/html": [
       "<div>\n",
       "<style scoped>\n",
       "    .dataframe tbody tr th:only-of-type {\n",
       "        vertical-align: middle;\n",
       "    }\n",
       "\n",
       "    .dataframe tbody tr th {\n",
       "        vertical-align: top;\n",
       "    }\n",
       "\n",
       "    .dataframe thead th {\n",
       "        text-align: right;\n",
       "    }\n",
       "</style>\n",
       "<table border=\"1\" class=\"dataframe\">\n",
       "  <thead>\n",
       "    <tr style=\"text-align: right;\">\n",
       "      <th></th>\n",
       "      <th>Driver</th>\n",
       "      <th>total GSAT effect</th>\n",
       "      <th>5% very likely lower limit</th>\n",
       "      <th>95% very likely upper limit</th>\n",
       "    </tr>\n",
       "  </thead>\n",
       "  <tbody>\n",
       "    <tr>\n",
       "      <th>0</th>\n",
       "      <td>Carbon dioxide (CO_2)</td>\n",
       "      <td>0.788254</td>\n",
       "      <td>0.521952</td>\n",
       "      <td>1.247635</td>\n",
       "    </tr>\n",
       "    <tr>\n",
       "      <th>1</th>\n",
       "      <td>Methane (CH_4)</td>\n",
       "      <td>0.513237</td>\n",
       "      <td>0.294718</td>\n",
       "      <td>0.840575</td>\n",
       "    </tr>\n",
       "    <tr>\n",
       "      <th>2</th>\n",
       "      <td>Nitrous oxide (N_2O)</td>\n",
       "      <td>0.091731</td>\n",
       "      <td>0.045557</td>\n",
       "      <td>0.155209</td>\n",
       "    </tr>\n",
       "    <tr>\n",
       "      <th>3</th>\n",
       "      <td>Halogenated gases (CFC + HCFC + HFC)</td>\n",
       "      <td>0.098762</td>\n",
       "      <td>0.005151</td>\n",
       "      <td>0.203464</td>\n",
       "    </tr>\n",
       "    <tr>\n",
       "      <th>4</th>\n",
       "      <td>Nitrogen oxides (NO_x)</td>\n",
       "      <td>-0.137032</td>\n",
       "      <td>-0.299279</td>\n",
       "      <td>0.011594</td>\n",
       "    </tr>\n",
       "    <tr>\n",
       "      <th>5</th>\n",
       "      <td>Volatile organic compounds and carbon monoxide...</td>\n",
       "      <td>0.223527</td>\n",
       "      <td>0.093978</td>\n",
       "      <td>0.391009</td>\n",
       "    </tr>\n",
       "    <tr>\n",
       "      <th>6</th>\n",
       "      <td>Sulphur dioxide (SO_2)</td>\n",
       "      <td>-0.485553</td>\n",
       "      <td>-0.931216</td>\n",
       "      <td>-0.104174</td>\n",
       "    </tr>\n",
       "    <tr>\n",
       "      <th>7</th>\n",
       "      <td>Organic carbon</td>\n",
       "      <td>-0.069498</td>\n",
       "      <td>-0.154982</td>\n",
       "      <td>0.009359</td>\n",
       "    </tr>\n",
       "    <tr>\n",
       "      <th>8</th>\n",
       "      <td>Black carbon</td>\n",
       "      <td>0.093069</td>\n",
       "      <td>-0.068966</td>\n",
       "      <td>0.257277</td>\n",
       "    </tr>\n",
       "    <tr>\n",
       "      <th>9</th>\n",
       "      <td>Ammonia</td>\n",
       "      <td>-0.014523</td>\n",
       "      <td>-0.023187</td>\n",
       "      <td>-0.009279</td>\n",
       "    </tr>\n",
       "    <tr>\n",
       "      <th>10</th>\n",
       "      <td>Land-use reflectance and irrigation (irrig+alb...</td>\n",
       "      <td>-0.079884</td>\n",
       "      <td>-0.138894</td>\n",
       "      <td>-0.036339</td>\n",
       "    </tr>\n",
       "    <tr>\n",
       "      <th>11</th>\n",
       "      <td>Aviation contrails</td>\n",
       "      <td>0.021815</td>\n",
       "      <td>0.007677</td>\n",
       "      <td>0.039767</td>\n",
       "    </tr>\n",
       "  </tbody>\n",
       "</table>\n",
       "</div>"
      ],
      "text/plain": [
       "                                               Driver  total GSAT effect  \\\n",
       "0                               Carbon dioxide (CO_2)           0.788254   \n",
       "1                                      Methane (CH_4)           0.513237   \n",
       "2                                Nitrous oxide (N_2O)           0.091731   \n",
       "3                Halogenated gases (CFC + HCFC + HFC)           0.098762   \n",
       "4                              Nitrogen oxides (NO_x)          -0.137032   \n",
       "5   Volatile organic compounds and carbon monoxide...           0.223527   \n",
       "6                              Sulphur dioxide (SO_2)          -0.485553   \n",
       "7                                      Organic carbon          -0.069498   \n",
       "8                                        Black carbon           0.093069   \n",
       "9                                             Ammonia          -0.014523   \n",
       "10  Land-use reflectance and irrigation (irrig+alb...          -0.079884   \n",
       "11                                 Aviation contrails           0.021815   \n",
       "\n",
       "    5% very likely lower limit  95% very likely upper limit  \n",
       "0                     0.521952                     1.247635  \n",
       "1                     0.294718                     0.840575  \n",
       "2                     0.045557                     0.155209  \n",
       "3                     0.005151                     0.203464  \n",
       "4                    -0.299279                     0.011594  \n",
       "5                     0.093978                     0.391009  \n",
       "6                    -0.931216                    -0.104174  \n",
       "7                    -0.154982                     0.009359  \n",
       "8                    -0.068966                     0.257277  \n",
       "9                    -0.023187                    -0.009279  \n",
       "10                   -0.138894                    -0.036339  \n",
       "11                    0.007677                     0.039767  "
      ]
     },
     "execution_count": 4,
     "metadata": {},
     "output_type": "execute_result"
    }
   ],
   "source": [
    "df"
   ]
  },
  {
   "cell_type": "code",
   "execution_count": 5,
   "id": "b48ef164",
   "metadata": {},
   "outputs": [],
   "source": [
    "hot = '#cc404a'\n",
    "cool= '#304fbf'"
   ]
  },
  {
   "cell_type": "code",
   "execution_count": 6,
   "id": "b77eae06",
   "metadata": {},
   "outputs": [
    {
     "data": {
      "text/plain": [
       "['Carbon dioxide (CO_2)',\n",
       " 'Methane (CH_4)',\n",
       " 'Nitrous oxide (N_2O)',\n",
       " 'Halogenated gases (CFC + HCFC + HFC)',\n",
       " 'Nitrogen oxides (NO_x)',\n",
       " 'Volatile organic compounds and carbon monoxide (NMVOC + CO)',\n",
       " 'Sulphur dioxide (SO_2)',\n",
       " 'Organic carbon',\n",
       " 'Black carbon',\n",
       " 'Ammonia',\n",
       " 'Land-use reflectance and irrigation (irrig+albedo)',\n",
       " 'Aviation contrails']"
      ]
     },
     "execution_count": 6,
     "metadata": {},
     "output_type": "execute_result"
    }
   ],
   "source": [
    "drivers = list(df['Driver'])\n",
    "drivers"
   ]
  },
  {
   "cell_type": "code",
   "execution_count": 12,
   "id": "ff5bfb46",
   "metadata": {},
   "outputs": [
    {
     "data": {
      "image/png": "[encoded data removed]",
      "text/plain": [
       "<Figure size 531.496x413.386 with 1 Axes>"
      ]
     },
     "metadata": {
      "needs_background": "light"
     },
     "output_type": "display_data"
    }
   ],
   "source": [
    "fig, ax = pl.subplots()\n",
    "\n",
    "ax.bar(-1, 1.07, color='grey')\n",
    "eb = ax.errorbar(\n",
    "    -1,\n",
    "    1.07,\n",
    "    yerr=np.array([1.07-0.8, 1.3-1.07]).reshape((2,1)),\n",
    "    capsize=3,\n",
    "    color='k'\n",
    ")\n",
    "\n",
    "for i, driver in enumerate(drivers):\n",
    "    positive = df.loc[df['Driver']==driver, 'total GSAT effect'].values[0] > 0\n",
    "    ax.bar(i, df.loc[df['Driver']==driver, 'total GSAT effect'], color=(hot if positive else cool))\n",
    "    eb = ax.errorbar(\n",
    "        i,\n",
    "        df.loc[df['Driver']==driver, 'total GSAT effect'],\n",
    "        yerr=np.array([\n",
    "            (\n",
    "                df.loc[df['Driver']==driver, 'total GSAT effect']-\n",
    "                df.loc[df['Driver']==driver, '5% very likely lower limit']\n",
    "            ), (\n",
    "                df.loc[df['Driver']==driver, '95% very likely upper limit']-\n",
    "                df.loc[df['Driver']==driver, 'total GSAT effect']\n",
    "            )\n",
    "        ]).reshape((2,1)),\n",
    "        capsize=3,\n",
    "        color='k'\n",
    "    )\n",
    "ax.tick_params(axis='x', which='both', bottom=False, top=False)\n",
    "ax.spines['bottom'].set_visible(False)\n",
    "ax.spines['top'].set_visible(False)\n",
    "ax.set_xticklabels([])\n",
    "\n",
    "labels = [\n",
    "    'Total anthropogenic',\n",
    "    'CO$_2$',\n",
    "    'CH$_4$',\n",
    "    'N$_2$O',\n",
    "    'Halogenated gases',\n",
    "    'Nitrogen oxides',\n",
    "    'NMVOC + CO',\n",
    "    'SO$_2$',\n",
    "    'Organic carbon',\n",
    "    'Black carbon',\n",
    "    'Ammonia',\n",
    "    'Land use change',\n",
    "    'Contrails',\n",
    "]\n",
    "\n",
    "for i, label in enumerate(labels):\n",
    "    ax.text(i-1, -1.55, label, rotation=90, ha='center', va='bottom')\n",
    "\n",
    "ax.set_ylabel(\"°C\")\n",
    "ax.set_title('Contribution to present-day warming')\n",
    "ax.set_xlim(-1.6, 11.6)\n",
    "ax.set_ylim(-1.55, 1.35)\n",
    "ax.axhline(0, ls=\":\", color='k', lw=0.5)\n",
    "\n",
    "pl.savefig('../figures/fig2c.png')\n",
    "pl.savefig('../figures/fig2c.pdf')"
   ]
  },
  {
   "cell_type": "code",
   "execution_count": null,
   "id": "01d7365e",
   "metadata": {},
   "outputs": [],
   "source": [
    "https://dap.ceda.ac.uk/badc/ar6_wg1/data/spm/spm_02/v20210809/panel_b/SPM2b.csv"
   ]
  }
 ],
 "metadata": {
  "kernelspec": {
   "display_name": "Python 3 (ipykernel)",
   "language": "python",
   "name": "python3"
  },
  "language_info": {
   "codemirror_mode": {
    "name": "ipython",
    "version": 3
   },
   "file_extension": ".py",
   "mimetype": "text/x-python",
   "name": "python",
   "nbconvert_exporter": "python",
   "pygments_lexer": "ipython3",
   "version": "3.7.11"
  }
 },
 "nbformat": 4,
 "nbformat_minor": 5
}
