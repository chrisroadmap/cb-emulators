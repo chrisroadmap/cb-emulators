{
 "cells": [
  {
   "cell_type": "markdown",
   "id": "535cbe68",
   "metadata": {},
   "source": [
    "# Draw 100000 ensemble members of FaIR"
   ]
  },
  {
   "cell_type": "code",
   "execution_count": 1,
   "id": "70cfcbb5",
   "metadata": {},
   "outputs": [],
   "source": [
    "import json\n",
    "import fair\n",
    "from climateforcing.utils import check_and_download\n",
    "import numpy as np\n",
    "import pandas as pd\n",
    "import scipy.stats as st\n",
    "from scipy.interpolate import interp1d\n",
    "from tqdm.notebook import tqdm\n",
    "import matplotlib.pyplot as pl\n",
    "from multiprocessing import Pool"
   ]
  },
  {
   "cell_type": "markdown",
   "id": "0f1466af",
   "metadata": {},
   "source": [
    "## Define the Ghan aerosol function\n",
    "\n",
    "This is given in the AR6 repository, but not quite in this form in FaIR."
   ]
  },
  {
   "cell_type": "code",
   "execution_count": 2,
   "id": "b98c6fb1",
   "metadata": {},
   "outputs": [],
   "source": [
    "def ghan(x, beta, n0, n1):\n",
    "    \"\"\"ERFaci logarithmic in emissions excluding nitrate.\n",
    "    Named after Steve Ghan, whose 2013 simple emissions emulator is extremely useful,\n",
    "    (https://agupubs.onlinelibrary.wiley.com/doi/full/10.1002/jgrd.50567),\n",
    "    and can be emulated again using this very simple formula.\n",
    "    Inputs\n",
    "    ------\n",
    "    x : obj:`numpy.array`\n",
    "        Time series of aerosol emissions\n",
    "    beta : float\n",
    "        Scale factor linking forcing to time series\n",
    "    n0 : float\n",
    "        Shape factor for SO2 emissions, W m**-2 (TgSO2 yr**-1)**-1\n",
    "    n1 : float\n",
    "        Shape factor for BC+OC emissions, W m**-2 (TgC yr**-1)**-1\n",
    "    Returns\n",
    "    -------\n",
    "    res : obj:`numpy.array`\n",
    "        Time series of ERFaci\n",
    "    \"\"\"\n",
    "    return -beta*np.log(1 + x[0]/n0 + x[1]/n1)"
   ]
  },
  {
   "cell_type": "markdown",
   "id": "228a8977",
   "metadata": {},
   "source": [
    "## Download pre-prepared files from AR6"
   ]
  },
  {
   "cell_type": "code",
   "execution_count": 3,
   "id": "5fb56832",
   "metadata": {},
   "outputs": [],
   "source": [
    "# get the random seeds used in AR6\n",
    "check_and_download(\"https://raw.githubusercontent.com/chrisroadmap/ar6/main/data_input/random_seeds.json\", \"../data_input/random_seeds.json\")"
   ]
  },
  {
   "cell_type": "code",
   "execution_count": 4,
   "id": "912c00bd",
   "metadata": {},
   "outputs": [],
   "source": [
    "# get two layer model tunings used in AR6\n",
    "check_and_download(\n",
    "    \"https://raw.githubusercontent.com/chrisroadmap/ar6/main/data_input/tunings/cmip6_twolayer_tuning_params.json\",\n",
    "    \"../data_input/cmip6_twolayer_tuning_params.json\"\n",
    ")"
   ]
  },
  {
   "cell_type": "code",
   "execution_count": 5,
   "id": "0fd44191",
   "metadata": {},
   "outputs": [],
   "source": [
    "# aerosol tunings to CMIP6 models\n",
    "check_and_download(\n",
    "    \"https://raw.githubusercontent.com/chrisroadmap/ar6/main/data_input/tunings/cmip6_aerosol_coefficients.json\",\n",
    "    \"../data_input/cmip6_aerosol_coefficients.json\"\n",
    ")"
   ]
  },
  {
   "cell_type": "code",
   "execution_count": 6,
   "id": "7e8633e9",
   "metadata": {},
   "outputs": [],
   "source": [
    "# Balancing CH4 and N2O\n",
    "check_and_download(\n",
    "    \"https://raw.githubusercontent.com/chrisroadmap/ar6/main/data_output/fair_wg3_natural_ch4_n2o.csv\",\n",
    "    \"../data_input/fair_wg3_natural_ch4_n2o.csv\"\n",
    ")"
   ]
  },
  {
   "cell_type": "code",
   "execution_count": 7,
   "id": "118ed7dc",
   "metadata": {},
   "outputs": [],
   "source": [
    "# Solar\n",
    "check_and_download(\n",
    "    \"https://raw.githubusercontent.com/chrisroadmap/ar6/main/data_output/solar_erf.csv\",\n",
    "    \"../data_input/solar_erf.csv\"\n",
    ")"
   ]
  },
  {
   "cell_type": "code",
   "execution_count": 8,
   "id": "13093cdb",
   "metadata": {},
   "outputs": [],
   "source": [
    "# Volcanic\n",
    "check_and_download(\n",
    "    \"https://raw.githubusercontent.com/chrisroadmap/ar6/main/data_output/volcanic_erf.csv\",\n",
    "    \"../data_input/volcanic_erf.csv\"\n",
    ")"
   ]
  },
  {
   "cell_type": "code",
   "execution_count": 9,
   "id": "8ba67784",
   "metadata": {},
   "outputs": [],
   "source": [
    "# rcmip emissions files\n",
    "check_and_download(\n",
    "    'https://rcmip-protocols-au.s3-ap-southeast-2.amazonaws.com/v5.1.0/rcmip-emissions-annual-means-v5-1-0.csv',\n",
    "    '../data_input_large/rcmip-emissions-annual-means-v5-1-0.csv'\n",
    ")"
   ]
  },
  {
   "cell_type": "code",
   "execution_count": 10,
   "id": "c62bb3e6",
   "metadata": {},
   "outputs": [],
   "source": [
    "# Ozone fits\n",
    "check_and_download(\n",
    "    'https://raw.githubusercontent.com/chrisroadmap/ar6/main/data_input/tunings/cmip6_ozone_skeie_fits.csv',\n",
    "    '../data_input/cmip6_ozone_skeie_fits.csv'\n",
    ")"
   ]
  },
  {
   "cell_type": "markdown",
   "id": "bd373c52",
   "metadata": {},
   "source": [
    "## Ensemble generation\n",
    "\n",
    "We follow similar lines to AR6, but with a smaller ensemble (= time)"
   ]
  },
  {
   "cell_type": "code",
   "execution_count": 11,
   "id": "518c2a1d",
   "metadata": {},
   "outputs": [],
   "source": [
    "with open('../data_input/random_seeds.json', 'r') as filehandle:\n",
    "    SEEDS = json.load(filehandle)"
   ]
  },
  {
   "cell_type": "code",
   "execution_count": 12,
   "id": "dace843b",
   "metadata": {},
   "outputs": [],
   "source": [
    "SAMPLES = 100000\n",
    "F2XCO2_MEAN = 3.93\n",
    "F2XCO2_NINETY = 0.47\n",
    "NINETY_TO_ONESIGMA = st.norm.ppf(0.95)"
   ]
  },
  {
   "cell_type": "markdown",
   "id": "7661ae50",
   "metadata": {},
   "source": [
    "### Climate response"
   ]
  },
  {
   "cell_type": "code",
   "execution_count": 13,
   "id": "b9f0424f",
   "metadata": {},
   "outputs": [],
   "source": [
    "with open(\"../data_input/cmip6_twolayer_tuning_params.json\", \"r\") as read_file:\n",
    "    params = json.load(read_file)\n",
    "cmip6_models = list(params['q4x']['model_data']['EBM-epsilon'].keys())\n",
    "cmip6_models\n",
    "NMODELS = len(cmip6_models)\n",
    "\n",
    "geoff_data = np.zeros((NMODELS, 6))\n",
    "for im, model in enumerate(cmip6_models):\n",
    "    geoff_data[im,0] = params['q4x']['model_data']['EBM-epsilon'][model]\n",
    "    geoff_data[im,1] = params['lamg']['model_data']['EBM-epsilon'][model]\n",
    "    geoff_data[im,2] = params['cmix']['model_data']['EBM-epsilon'][model]\n",
    "    geoff_data[im,3] = params['cdeep']['model_data']['EBM-epsilon'][model]\n",
    "    geoff_data[im,4] = params['gamma_2l']['model_data']['EBM-epsilon'][model]\n",
    "    geoff_data[im,5] = params['eff']['model_data']['EBM-epsilon'][model]\n",
    "\n",
    "geoff_df = pd.DataFrame(geoff_data, columns=['q4x','lamg','cmix','cdeep','gamma_2l','eff'], index=cmip6_models)\n",
    "kde = st.gaussian_kde(geoff_df.T)\n",
    "geoff_sample = kde.resample(size=int(SAMPLES*1.25), seed = SEEDS[15])\n",
    "\n",
    "# remove unphysical combinations\n",
    "geoff_sample[:,geoff_sample[0,:] <= 0] = np.nan\n",
    "geoff_sample[1, :] = st.truncnorm.rvs(-2, 2, loc=-4/3, scale=0.5, size=int(SAMPLES*1.25), random_state=SEEDS[16])\n",
    "geoff_sample[:,geoff_sample[2,:] <= 0] = np.nan\n",
    "geoff_sample[:,geoff_sample[3,:] <= 0] = np.nan\n",
    "geoff_sample[:,geoff_sample[4,:] <= 0] = np.nan\n",
    "geoff_sample[:,geoff_sample[5,:] <= 0] = np.nan\n",
    "\n",
    "mask = np.all(np.isnan(geoff_sample), axis=0)\n",
    "geoff_sample = geoff_sample[:,~mask][:,:SAMPLES]\n",
    "geoff_sample_df=pd.DataFrame(data=geoff_sample.T, columns=['q4x','lamg','cmix','cdeep','gamma_2l','eff'])\n",
    "geoff_sample_df.to_csv('../data_output/geoff_sample.csv')\n",
    "geoff_sample_df\n",
    "\n",
    "f2x = st.norm.rvs(loc=F2XCO2_MEAN, scale=F2XCO2_NINETY/NINETY_TO_ONESIGMA, size=SAMPLES, random_state=SEEDS[73])\n",
    "\n",
    "ecs = -f2x/geoff_sample[1,:]\n",
    "tcr = f2x/(-geoff_sample[1,:] + geoff_sample[4,:]*geoff_sample[5,:])"
   ]
  },
  {
   "cell_type": "markdown",
   "id": "c5e418b0",
   "metadata": {},
   "source": [
    "### Forcing uncertainties"
   ]
  },
  {
   "cell_type": "code",
   "execution_count": 14,
   "id": "ebe1898a",
   "metadata": {},
   "outputs": [],
   "source": [
    "# these are standard deviations of the scale factor for normally distributed forcings (mean = 1). The list below is expressed in terms of 5-95% ranges.\n",
    "unc_ranges = np.array([\n",
    "    0.12,      # CO2\n",
    "    0.20,      # CH4: updated value from etminan 2016\n",
    "    0.14,      # N2O\n",
    "    0.19,      # other WMGHGs\n",
    "    0.50,      # Total ozone\n",
    "    1.00,      # stratospheric WV from CH4\n",
    "    0.70,      # contrails approx - half-normal\n",
    "    1.25,      # bc on snow - half-normal\n",
    "    0.50,      # land use change\n",
    "    5.0/20.0,  # volcanic\n",
    "    0.50,      # solar (amplitude)\n",
    "])/NINETY_TO_ONESIGMA\n",
    "\n",
    "NORMALS = len(unc_ranges)\n",
    "\n",
    "scale_normals = st.norm.rvs(\n",
    "    size=(SAMPLES,NORMALS),\n",
    "    loc=np.ones((SAMPLES,NORMALS)),\n",
    "    scale=np.ones((SAMPLES, NORMALS)) * unc_ranges[None,:],\n",
    "    random_state=SEEDS[4]\n",
    ")\n",
    "\n",
    "## bc snow is asymmetric Gaussian. We can just scale the half of the distribution above/below best estimate\n",
    "scale_normals[scale_normals[:,7]<1,7] = 0.08/0.1*(scale_normals[scale_normals[:,7]<1,7]-1) + 1\n",
    "\n",
    "## so is contrails - the benefits of doing this are tiny :)\n",
    "scale_normals[scale_normals[:,6]<1,6] = 0.0384/0.0406*(scale_normals[scale_normals[:,6]<1,6]-1) + 1\n",
    "\n",
    "trend_solar = st.norm.rvs(size=SAMPLES, loc=+0.01, scale=0.07/NINETY_TO_ONESIGMA, random_state=SEEDS[50])"
   ]
  },
  {
   "cell_type": "code",
   "execution_count": 15,
   "id": "579044ca",
   "metadata": {},
   "outputs": [],
   "source": [
    "with open(\"../data_input/cmip6_aerosol_coefficients.json\") as json_file:\n",
    "    cmip6_aerosol_data = json.load(json_file)"
   ]
  },
  {
   "cell_type": "code",
   "execution_count": 16,
   "id": "d768328d",
   "metadata": {},
   "outputs": [],
   "source": [
    "cmip6_aci = np.zeros((11, 2))\n",
    "for i, model in enumerate(['CanESM5', 'E3SM', 'GFDL-ESM4', 'GFDL-CM4', 'GISS-E2-1-G', 'HadGEM3-GC31-LL', 'IPSL-CM6A-LR', 'MIROC6', 'MRI-ESM2-0', 'NorESM2-LM', 'UKESM1-0-LL']):\n",
    "    for j, species in enumerate(['n0','n1']):\n",
    "        cmip6_aci[i,j] = np.log(cmip6_aerosol_data[model]['ERFaci'][species])\n",
    "kde = st.gaussian_kde(cmip6_aci.T)\n",
    "aci_coeffs=np.exp(kde.resample(size=int(SAMPLES), seed=SEEDS[8]).T)"
   ]
  },
  {
   "cell_type": "code",
   "execution_count": 17,
   "id": "4a8f909c",
   "metadata": {},
   "outputs": [],
   "source": [
    "bc_20101750 = st.norm.rvs(loc=0.3, scale=0.2/NINETY_TO_ONESIGMA, size=SAMPLES, random_state=SEEDS[95])\n",
    "oc_20101750 = st.norm.rvs(loc=-0.09, scale=0.07/NINETY_TO_ONESIGMA, size=SAMPLES, random_state=SEEDS[96])\n",
    "so2_20101750 = st.norm.rvs(loc=-0.4, scale=0.2/NINETY_TO_ONESIGMA, size=SAMPLES, random_state=SEEDS[97])\n",
    "nit_20101750 = st.norm.rvs(loc=-0.11, scale=0.05/NINETY_TO_ONESIGMA, size=SAMPLES, random_state=SEEDS[98])"
   ]
  },
  {
   "cell_type": "code",
   "execution_count": 18,
   "id": "38246e7a",
   "metadata": {},
   "outputs": [],
   "source": [
    "# Get SSP historical emissions\n",
    "ssp_df = pd.read_csv('../data_input_large/rcmip-emissions-annual-means-v5-1-0.csv')\n",
    "species = [\n",
    "    'Emissions|Sulfur',\n",
    "    'Emissions|BC',\n",
    "    'Emissions|OC',\n",
    "    'Emissions|NH3',\n",
    "    'Emissions|NOx'\n",
    "]\n",
    "\n",
    "unit_convert = np.ones(5)\n",
    "unit_convert[0] = 32/64 # follow zeb exactly, but would be better to use fair.constants.molwt\n",
    "unit_convert[4] = 14/46\n",
    "\n",
    "emissions_out = np.zeros((351,5))\n",
    "\n",
    "years_future = [2015] + list(range(2020,2101,10))\n",
    "for i, specie in enumerate(species):\n",
    "    emissions_out[:265,i] = ssp_df.loc[\n",
    "        (ssp_df['Model']=='MESSAGE-GLOBIOM')&\n",
    "        (ssp_df['Region']=='World')&\n",
    "        (ssp_df['Scenario']=='ssp245')&\n",
    "        (ssp_df['Variable']==specie),\n",
    "        '1750':'2014']*unit_convert[i]\n",
    "    f = interp1d(years_future, ssp_df.loc[\n",
    "        (ssp_df['Model']=='MESSAGE-GLOBIOM')&\n",
    "        (ssp_df['Region']=='World')&\n",
    "        (ssp_df['Scenario']=='ssp245')&\n",
    "        (ssp_df['Variable']==specie),'2015':'2100'\n",
    "    ].dropna(axis=1))\n",
    "    emissions_out[265:, i] = f(np.arange(2015, 2101))*unit_convert[i]"
   ]
  },
  {
   "cell_type": "markdown",
   "id": "09c947c3",
   "metadata": {},
   "source": [
    "### put together aerosol forcing"
   ]
  },
  {
   "cell_type": "code",
   "execution_count": 19,
   "id": "1e9b3569",
   "metadata": {},
   "outputs": [],
   "source": [
    "beta_bc = bc_20101750/(np.mean(emissions_out[255:265,1])-emissions_out[0,1])\n",
    "beta_oc = oc_20101750/(np.mean(emissions_out[255:265,2])-emissions_out[0,2])\n",
    "beta_so2 = so2_20101750/(np.mean(emissions_out[255:265,0])-emissions_out[0,0])\n",
    "beta_nh3 = nit_20101750/(np.mean(emissions_out[255:265,3])-emissions_out[0,3])"
   ]
  },
  {
   "cell_type": "code",
   "execution_count": 20,
   "id": "c5b7b799",
   "metadata": {},
   "outputs": [],
   "source": [
    "ERFari = np.zeros((351, SAMPLES))\n",
    "for i in range(SAMPLES):\n",
    "    ERFari[:, i] = (\n",
    "        (emissions_out[:,0]-emissions_out[0,0]) * beta_so2[i] +\n",
    "        (emissions_out[:,1]-emissions_out[0,1]) * beta_bc[i] +\n",
    "        (emissions_out[:,2]-emissions_out[0,2]) * beta_oc[i] +\n",
    "        (emissions_out[:,3]-emissions_out[0,3]) * beta_nh3[i] \n",
    "    )"
   ]
  },
  {
   "cell_type": "code",
   "execution_count": 21,
   "id": "5a07ae26",
   "metadata": {},
   "outputs": [],
   "source": [
    "ERFaci_scale = st.norm.rvs(size=SAMPLES, loc=-1.0, scale=0.7/NINETY_TO_ONESIGMA, random_state=SEEDS[9])"
   ]
  },
  {
   "cell_type": "code",
   "execution_count": 22,
   "id": "820e05a3",
   "metadata": {},
   "outputs": [
    {
     "data": {
      "application/vnd.jupyter.widget-view+json": {
       "model_id": "70d1ef91235e4e2e84b6636f61d225ff",
       "version_major": 2,
       "version_minor": 0
      },
      "text/plain": [
       "  0%|          | 0/100000 [00:00<?, ?it/s]"
      ]
     },
     "metadata": {},
     "output_type": "display_data"
    }
   ],
   "source": [
    "ERFaci = np.zeros((351, SAMPLES))\n",
    "beta   = np.zeros(SAMPLES)\n",
    "\n",
    "for i in tqdm(range(SAMPLES)):\n",
    "    forcing2010 = np.mean(\n",
    "        ghan([\n",
    "            emissions_out[255:265,0], emissions_out[255:265,1]+emissions_out[255:265,2]\n",
    "        ], 0.97, aci_coeffs[i,0], aci_coeffs[i,1])\n",
    "    )\n",
    "    forcing1750 = ghan([emissions_out[0,0], emissions_out[0,1]+emissions_out[0,2]], 0.97, aci_coeffs[i,0], aci_coeffs[i,1])\n",
    "    ERFaci[:,i] = (ghan([emissions_out[:,0], emissions_out[:,1]+emissions_out[:,2]], 0.97, aci_coeffs[i,0], aci_coeffs[i,1]) - forcing1750)/(forcing2010-forcing1750)*(ERFaci_scale[i])\n",
    "    beta[i] = ERFaci_scale[i]/(forcing2010-forcing1750)"
   ]
  },
  {
   "cell_type": "markdown",
   "id": "c13b3d13",
   "metadata": {},
   "source": [
    "## Carbon cycle parameters\n",
    "\n",
    "Uniform distributions from Leach et al 2020 https://gmd.copernicus.org/preprints/gmd-2020-390/, using full range of CMIP6 tunings.\n",
    "\n",
    "Pre-industrial CO2 concentration uncertainty is from Jinho Ahn, chapter 2 AR6 WG1."
   ]
  },
  {
   "cell_type": "code",
   "execution_count": 23,
   "id": "ec88111a",
   "metadata": {},
   "outputs": [],
   "source": [
    "r0 = st.uniform.rvs(loc=27.7, scale=41.3-27.7, random_state=SEEDS[10], size=SAMPLES)\n",
    "rC = st.uniform.rvs(loc=-0.00712, scale=0.0482+0.00712, random_state=SEEDS[11], size=SAMPLES)\n",
    "rT = st.uniform.rvs(loc=-0.0847, scale=4.52+0.0847, random_state=SEEDS[12], size=SAMPLES)\n",
    "pre_ind_co2 = st.norm.rvs(loc=277.147, scale=2.9, random_state=SEEDS[13], size=SAMPLES)"
   ]
  },
  {
   "cell_type": "markdown",
   "id": "133919e9",
   "metadata": {},
   "source": [
    "## We have everything we need to run FaIR with"
   ]
  },
  {
   "cell_type": "code",
   "execution_count": 24,
   "id": "ee9341a9",
   "metadata": {},
   "outputs": [],
   "source": [
    "ssp_df = pd.read_csv('../data_input_large/rcmip-emissions-annual-means-v5-1-0.csv')\n",
    "years = np.arange(1750,2101)\n",
    "startyear = 1750\n",
    "first_scenyear = 2015\n",
    "last_scenyear = 2100\n",
    "first_row = int(first_scenyear-startyear)\n",
    "last_row = int(last_scenyear-startyear)\n",
    "\n",
    "species = [  # in fair 1.6, order is important\n",
    "    '|CO2|MAGICC Fossil and Industrial',\n",
    "    '|CO2|MAGICC AFOLU',\n",
    "    '|CH4',\n",
    "    '|N2O',\n",
    "    '|Sulfur',\n",
    "    '|CO',\n",
    "    '|VOC',\n",
    "    '|NOx',\n",
    "    '|BC',\n",
    "    '|OC',\n",
    "    '|NH3',\n",
    "    '|CF4',\n",
    "    '|C2F6',\n",
    "    '|C6F14',\n",
    "    '|HFC23',\n",
    "    '|HFC32',\n",
    "    '|HFC4310mee',\n",
    "    '|HFC125',\n",
    "    '|HFC134a',\n",
    "    '|HFC143a',\n",
    "    '|HFC227ea',\n",
    "    '|HFC245fa',\n",
    "    '|SF6',\n",
    "    '|CFC11',\n",
    "    '|CFC12',\n",
    "    '|CFC113',\n",
    "    '|CFC114',\n",
    "    '|CFC115',\n",
    "    '|CCl4',\n",
    "    '|CH3CCl3',\n",
    "    '|HCFC22',\n",
    "    '|HCFC141b',\n",
    "    '|HCFC142b',\n",
    "    '|Halon1211',\n",
    "    '|Halon1202',\n",
    "    '|Halon1301',\n",
    "    '|Halon2402',\n",
    "    '|CH3Br',\n",
    "    '|CH3Cl',\n",
    "]\n",
    "\n",
    "# Assume that units coming out of aneris don't change. One day I'll do unit parsing\n",
    "unit_convert = np.ones(40)\n",
    "unit_convert[1] = 12/44/1000\n",
    "unit_convert[2] = 12/44/1000\n",
    "unit_convert[4] = 28/44/1000\n",
    "unit_convert[5] = 32/64\n",
    "unit_convert[8] = 14/46\n",
    "\n",
    "data_out = {}\n",
    "\n",
    "scens = ['ssp245']\n",
    "for scen in scens:\n",
    "    data_out[scen] = np.ones((351, 40)) * np.nan\n",
    "    data_out[scen][:,0] = years\n",
    "\n",
    "    years_future = [2015] + list(range(2020,2101,10))\n",
    "    for i, specie in enumerate(species):\n",
    "        data_out[scen][:first_row,i+1] = ssp_df.loc[(ssp_df['Model']=='MESSAGE-GLOBIOM')&(ssp_df['Region']=='World')&(ssp_df['Scenario']==scen)&(ssp_df['Variable'].str.endswith(specie)),str(startyear):'2014']*unit_convert[i+1]\n",
    "        f = interp1d(years_future, ssp_df.loc[(ssp_df['Model']=='MESSAGE-GLOBIOM')&(ssp_df['Region']=='World')&(ssp_df['Scenario']==scen)&(ssp_df['Variable'].str.endswith(specie)),'2015':'2100'].dropna(axis=1))\n",
    "        data_out[scen][first_row:(last_row+1), i+1] = f(np.arange(first_scenyear, last_scenyear+1))*unit_convert[i+1]"
   ]
  },
  {
   "cell_type": "code",
   "execution_count": 25,
   "id": "8a1d5331",
   "metadata": {},
   "outputs": [],
   "source": [
    "# add in natural emissions and natural forcing\n",
    "ch4_n2o_df = pd.read_csv('../data_input/fair_wg3_natural_ch4_n2o.csv')\n",
    "ch4_n2o = ch4_n2o_df.values[:351,1:]\n",
    "\n",
    "df = pd.read_csv('../data_input/solar_erf.csv', index_col='year')\n",
    "solar_forcing = df.solar_erf.loc[1750:2100].values\n",
    "\n",
    "df = pd.read_csv('../data_input/volcanic_erf.csv', index_col='year')\n",
    "volcanic_forcing = np.zeros((351))\n",
    "volcanic_forcing[:269] = df.volcanic_erf.loc[1750:2018].values\n",
    "# ramp down last 10 years to zero according to https://www.geosci-model-dev.net/9/3461/2016/gmd-9-3461-2016.html\n",
    "volcanic_forcing[268:279] = volcanic_forcing[268] * np.linspace(1,0,11)\n",
    "volcanic_forcing[279:] = 0."
   ]
  },
  {
   "cell_type": "code",
   "execution_count": 26,
   "id": "a03ad684",
   "metadata": {},
   "outputs": [],
   "source": [
    "o3_df = pd.read_csv('../data_input/cmip6_ozone_skeie_fits.csv', index_col=0)"
   ]
  },
  {
   "cell_type": "code",
   "execution_count": 27,
   "id": "ddeb3065",
   "metadata": {},
   "outputs": [],
   "source": [
    "ozone_feedback = st.norm.rvs(loc=-0.037, scale=0.012, size=SAMPLES, random_state=SEEDS[51])\n",
    "\n",
    "# these coefficients are Skeie fits\n",
    "beta_ch4 = st.norm.rvs(loc=o3_df.loc['CH4','mean'], scale=o3_df.loc['CH4','u90']/NINETY_TO_ONESIGMA, size=SAMPLES, random_state=SEEDS[52])\n",
    "beta_n2o = st.norm.rvs(loc=o3_df.loc['N2O','mean'], scale=o3_df.loc['N2O','u90']/NINETY_TO_ONESIGMA, size=SAMPLES, random_state=SEEDS[53])\n",
    "beta_ods = st.norm.rvs(loc=o3_df.loc['ODS','mean'], scale=-o3_df.loc['ODS','u90']/NINETY_TO_ONESIGMA, size=SAMPLES, random_state=SEEDS[54])\n",
    "beta_co = st.norm.rvs(loc=o3_df.loc['CO','mean'], scale=o3_df.loc['CO','u90']/NINETY_TO_ONESIGMA, size=SAMPLES, random_state=SEEDS[55])\n",
    "beta_voc = st.norm.rvs(loc=o3_df.loc['VOC','mean'], scale=o3_df.loc['VOC','u90']/NINETY_TO_ONESIGMA, size=SAMPLES, random_state=SEEDS[56])\n",
    "beta_nox = st.norm.rvs(loc=46/14*o3_df.loc['NOx','mean'], scale=46/14*o3_df.loc['NOx','u90']/NINETY_TO_ONESIGMA, size=SAMPLES, random_state=SEEDS[57])"
   ]
  },
  {
   "cell_type": "code",
   "execution_count": 28,
   "id": "06fffb4f",
   "metadata": {},
   "outputs": [],
   "source": [
    "aCO2land = -0.2 / 190\n",
    "E_ref_BC = 6.095"
   ]
  },
  {
   "cell_type": "code",
   "execution_count": 29,
   "id": "f28baa71",
   "metadata": {},
   "outputs": [
    {
     "data": {
      "application/vnd.jupyter.widget-view+json": {
       "model_id": "a482366fd4474e4e9b7443fefb71b249",
       "version_major": 2,
       "version_minor": 0
      },
      "text/plain": [
       "  0%|          | 0/100000 [00:00<?, ?it/s]"
      ]
     },
     "metadata": {},
     "output_type": "display_data"
    }
   ],
   "source": [
    "scen='ssp245'\n",
    "E_pi=np.zeros(40)\n",
    "# unit convert not necessary as this has been done going in\n",
    "E_pi[5]=1.22002422\n",
    "E_pi[6]=348.527359\n",
    "E_pi[7]=60.0218262\n",
    "E_pi[8]=3.87593407\n",
    "E_pi[9]=2.09777075\n",
    "E_pi[10]=15.4476682\n",
    "E_pi[11]=6.92769009\n",
    "\n",
    "aCO2land = -0.2 / 190\n",
    "E_ref_BC = 6.095\n",
    "\n",
    "arglist = []\n",
    "for i in tqdm(range(SAMPLES)):\n",
    "    # should we use RCMIP or AR6 values??\n",
    "    # do not move this out of the loop\n",
    "    C_pi=np.zeros(31)\n",
    "    C_pi[0] = pre_ind_co2[i]\n",
    "    C_pi[1]=731.406\n",
    "    C_pi[2]=273.8651\n",
    "    C_pi[3]=34.05\n",
    "    C_pi[4] = 32.28077001      # where did this come from? \n",
    "    C_pi[25]=0.00434894\n",
    "    C_pi[29]=8.75191031\n",
    "    C_pi[30]=755.7838942\n",
    "    scale = np.ones(45)\n",
    "    scale[1] = scale_normals[i,1] * 0.86 # methane adjustment\n",
    "    scale[2] = scale_normals[i,2] * 1.07\n",
    "    scale[3:31] = scale_normals[i,3]\n",
    "    scale[15] = scale_normals[i,3] * 1.13 # cfc11 adjustment\n",
    "    scale[16] = scale_normals[i,3] * 1.12 # cfc12 adjustment\n",
    "    #scale[31] = scale_normals[i,4]\n",
    "    scale[33:35] = scale_normals[i,5:7]\n",
    "    scale[41:44] = scale_normals[i,7:10]\n",
    "    F_solar = np.zeros(351)\n",
    "    F_solar[:270] = np.linspace(0,trend_solar[i],270) + solar_forcing[:270]*scale_normals[i,10]\n",
    "    F_solar[270:351] = trend_solar[i] + solar_forcing[270:351]*scale_normals[i,10]\n",
    "    arglist.append(\n",
    "        {\n",
    "            'ghg_forcing': 'Meinshausen',\n",
    "            'emissions': data_out[scen],\n",
    "            'natural': ch4_n2o,\n",
    "            'F_volcanic': volcanic_forcing,\n",
    "            'F_solar': solar_forcing,\n",
    "            'efficacy': np.ones(45),\n",
    "            'diagnostics': 'AR6',\n",
    "            'gir_carbon_cycle': True,\n",
    "            'aerosol_forcing': 'aerocom+ghan2',\n",
    "            'fixPre1850RCP': False,\n",
    "            'E_pi': E_pi,\n",
    "            'temperature_function': 'Geoffroy',\n",
    "            'b_tro3': np.array([beta_ch4[i], beta_n2o[i], beta_ods[i], beta_co[i], beta_voc[i], beta_nox[i]]),\n",
    "            'ozone_feedback': ozone_feedback[i],\n",
    "            'tropO3_forcing': 'thornhill-skeie',\n",
    "            'aCO2land': aCO2land,\n",
    "            'stwv_from_ch4': 0.079047,\n",
    "            'F_ref_BC': 0.08,\n",
    "            'E_ref_BC': E_ref_BC,\n",
    "            'C_pi': C_pi,\n",
    "            'F2x': f2x[i],\n",
    "            'r0': r0[i],\n",
    "            'rc': rC[i],\n",
    "            'rt': rT[i],\n",
    "            'lambda_global': -geoff_sample_df.loc[i, 'lamg'],  # this and the below only used in two-layer model\n",
    "            'ocean_heat_capacity': np.array([geoff_sample_df.loc[i, 'cmix'], geoff_sample_df.loc[i, 'cdeep']]),\n",
    "            'ocean_heat_exchange': geoff_sample_df.loc[i, 'gamma_2l'],\n",
    "            'deep_ocean_efficacy': geoff_sample_df.loc[i, 'eff'],\n",
    "            'b_aero': np.array([beta_so2[i], 0.0, 0.0, 0.0, beta_bc[i], beta_oc[i], beta_nh3[i]]),\n",
    "            'ghan_params': np.array([beta[i], aci_coeffs[i,0], aci_coeffs[i,1]]),\n",
    "            'scale': scale,\n",
    "        }\n",
    "    )"
   ]
  },
  {
   "cell_type": "code",
   "execution_count": 30,
   "id": "084619e4",
   "metadata": {},
   "outputs": [
    {
     "data": {
      "application/vnd.jupyter.widget-view+json": {
       "model_id": "6e981c0aa1304ed6ad89120722ae01b7",
       "version_major": 2,
       "version_minor": 0
      },
      "text/plain": [
       "  0%|          | 0/100000 [00:00<?, ?it/s]"
      ]
     },
     "metadata": {},
     "output_type": "display_data"
    }
   ],
   "source": [
    "def run_fair(args):\n",
    "    thisC, _, thisT, _, thisOHU, _, _ = fair.forward.fair_scm(**args)\n",
    "    return (\n",
    "        thisC[:,0], \n",
    "        thisT,\n",
    "        thisOHU,\n",
    "    )\n",
    "\n",
    "if __name__ == '__main__':\n",
    "    with Pool(28) as pool:\n",
    "        result = list(tqdm(pool.imap(run_fair, arglist), total=SAMPLES))"
   ]
  },
  {
   "cell_type": "code",
   "execution_count": 31,
   "id": "dde19ec6",
   "metadata": {},
   "outputs": [],
   "source": [
    "result_t = np.array(result).transpose(1,2,0)"
   ]
  },
  {
   "cell_type": "code",
   "execution_count": 32,
   "id": "69889527",
   "metadata": {},
   "outputs": [],
   "source": [
    "C_CO2, T, OHU = result_t"
   ]
  },
  {
   "cell_type": "code",
   "execution_count": 33,
   "id": "f884ad62",
   "metadata": {},
   "outputs": [
    {
     "data": {
      "text/plain": [
       "[<matplotlib.lines.Line2D at 0x7fcdcd9bd650>]"
      ]
     },
     "execution_count": 33,
     "metadata": {},
     "output_type": "execute_result"
    },
    {
     "data": {
      "image/png": "[encoded data removed]",
      "text/plain": [
       "<Figure size 432x288 with 1 Axes>"
      ]
     },
     "metadata": {
      "needs_background": "light"
     },
     "output_type": "display_data"
    }
   ],
   "source": [
    "pl.fill_between(np.arange(1750,2101), np.percentile(T, 5, axis=1), np.percentile(T, 95, axis=1))\n",
    "pl.plot(np.arange(1750,2101), np.percentile(T, 50, axis=1), color='k')"
   ]
  },
  {
   "cell_type": "markdown",
   "id": "f5532285",
   "metadata": {},
   "source": [
    "## Save unconstrained output"
   ]
  },
  {
   "cell_type": "code",
   "execution_count": 34,
   "id": "b204082d",
   "metadata": {},
   "outputs": [],
   "source": [
    "np.save('../data_output_large/C_CO2_unconstrained.npy', C_CO2)\n",
    "np.save('../data_output_large/T_unconstrained.npy', T)\n",
    "np.save('../data_output_large/OHU_unconstrained.npy', OHU)"
   ]
  },
  {
   "cell_type": "code",
   "execution_count": null,
   "id": "60353c60",
   "metadata": {},
   "outputs": [],
   "source": []
  }
 ],
 "metadata": {
  "kernelspec": {
   "display_name": "Python 3 (ipykernel)",
   "language": "python",
   "name": "python3"
  },
  "language_info": {
   "codemirror_mode": {
    "name": "ipython",
    "version": 3
   },
   "file_extension": ".py",
   "mimetype": "text/x-python",
   "name": "python",
   "nbconvert_exporter": "python",
   "pygments_lexer": "ipython3",
   "version": "3.7.11"
  }
 },
 "nbformat": 4,
 "nbformat_minor": 5
}
