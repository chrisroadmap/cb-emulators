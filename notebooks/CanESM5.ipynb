{
 "cells": [
  {
   "cell_type": "markdown",
   "id": "bd20ebb4",
   "metadata": {},
   "source": [
    "# Show FaIR calibration to CanESM5\n",
    "\n",
    "Why do we pick CanESM5? They produced tunings for carbon cycle, 4xCO2 and aerosols. Perhaps we can show all five models that did these."
   ]
  },
  {
   "cell_type": "code",
   "execution_count": 5,
   "id": "c35990fe",
   "metadata": {},
   "outputs": [],
   "source": [
    "import fair\n",
    "import pandas as pd\n",
    "from climateforcing.utils import check_and_download"
   ]
  },
  {
   "cell_type": "markdown",
   "id": "e9424ad8",
   "metadata": {},
   "source": [
    "## 4xCO2 tuning showing climate response\n",
    "\n",
    "Take these tunings from Glen Harris' work on the two-layer model"
   ]
  },
  {
   "cell_type": "code",
   "execution_count": 4,
   "id": "43890e10",
   "metadata": {},
   "outputs": [
    {
     "name": "stderr",
     "output_type": "stream",
     "text": [
      "scmpy2L_calib_n%3D44_eps%3Dfit_v20200702.txt: 8.19kB [00:00, 92.3kB/s]\n"
     ]
    }
   ],
   "source": [
    "check_and_download(\n",
    "    \"https://raw.githubusercontent.com/chrisroadmap/aerosol-history/main/data_input/scmpy2L_calib_n%3D44_eps%3Dfit_v20200702.txt\",\n",
    "    \"../data_input/two_layer_tunings.txt\"\n",
    ")"
   ]
  },
  {
   "cell_type": "code",
   "execution_count": 11,
   "id": "679e1ac3",
   "metadata": {},
   "outputs": [],
   "source": [
    "twolayer_params = pd.read_csv(\"../data_input/two_layer_tunings.txt\", delim_whitespace=True, index_col=\"Model\")"
   ]
  },
  {
   "cell_type": "code",
   "execution_count": 13,
   "id": "ef1e6c38",
   "metadata": {},
   "outputs": [
    {
     "data": {
      "text/plain": [
       "F4x         7.6149\n",
       "Lambda      0.6585\n",
       "Cmix        7.8567\n",
       "Cdeep      78.8290\n",
       "Gamma       0.5393\n",
       "Epsilon     1.0895\n",
       "Name: CanESM5, dtype: float64"
      ]
     },
     "execution_count": 13,
     "metadata": {},
     "output_type": "execute_result"
    }
   ],
   "source": [
    "twolayer_params.loc[\"CanESM5\"]"
   ]
  }
 ],
 "metadata": {
  "kernelspec": {
   "display_name": "Python 3 (ipykernel)",
   "language": "python",
   "name": "python3"
  },
  "language_info": {
   "codemirror_mode": {
    "name": "ipython",
    "version": 3
   },
   "file_extension": ".py",
   "mimetype": "text/x-python",
   "name": "python",
   "nbconvert_exporter": "python",
   "pygments_lexer": "ipython3",
   "version": "3.7.10"
  }
 },
 "nbformat": 4,
 "nbformat_minor": 5
}
