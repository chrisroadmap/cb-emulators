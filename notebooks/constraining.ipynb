{
 "cells": [
  {
   "cell_type": "markdown",
   "id": "535cbe68",
   "metadata": {},
   "source": [
    "# Show how constraining is done"
   ]
  },
  {
   "cell_type": "code",
   "execution_count": 1,
   "id": "70cfcbb5",
   "metadata": {},
   "outputs": [],
   "source": [
    "import json\n",
    "import fair\n",
    "from climateforcing.utils import check_and_download\n",
    "import numpy as np\n",
    "import pandas as pd\n",
    "import scipy.stats as st\n",
    "from scipy.interpolate import interp1d\n",
    "\n",
    "import matplotlib.pyplot as pl"
   ]
  },
  {
   "cell_type": "markdown",
   "id": "228a8977",
   "metadata": {},
   "source": [
    "## Download pre-prepared files from AR6"
   ]
  },
  {
   "cell_type": "code",
   "execution_count": 2,
   "id": "5fb56832",
   "metadata": {},
   "outputs": [],
   "source": [
    "# get the random seeds used in AR6\n",
    "check_and_download(\"https://raw.githubusercontent.com/chrisroadmap/ar6/main/data_input/random_seeds.json\", \"../data_input/random_seeds.json\")"
   ]
  },
  {
   "cell_type": "code",
   "execution_count": 3,
   "id": "912c00bd",
   "metadata": {},
   "outputs": [],
   "source": [
    "# get two layer model tunings used in AR6\n",
    "check_and_download(\n",
    "    \"https://raw.githubusercontent.com/chrisroadmap/ar6/main/data_input/tunings/cmip6_twolayer_tuning_params.json\",\n",
    "    \"../data_input/cmip6_twolayer_tuning_params.json\"\n",
    ")"
   ]
  },
  {
   "cell_type": "code",
   "execution_count": 4,
   "id": "0fd44191",
   "metadata": {},
   "outputs": [],
   "source": [
    "# aerosol tunings to CMIP6 models\n",
    "check_and_download(\n",
    "    \"https://raw.githubusercontent.com/chrisroadmap/ar6/main/data_input/tunings/cmip6_aerosol_coefficients.json\",\n",
    "    \"../data_input/cmip6_aerosol_coefficients.json\"\n",
    ")"
   ]
  },
  {
   "cell_type": "code",
   "execution_count": 5,
   "id": "8ba67784",
   "metadata": {},
   "outputs": [],
   "source": [
    "# rcmip emissions files\n",
    "check_and_download(\n",
    "    'https://rcmip-protocols-au.s3-ap-southeast-2.amazonaws.com/v5.1.0/rcmip-emissions-annual-means-v5-1-0.csv',\n",
    "    '../data_input_large/rcmip-emissions-annual-means-v5-1-0.csv'\n",
    ")"
   ]
  },
  {
   "cell_type": "markdown",
   "id": "bd373c52",
   "metadata": {},
   "source": [
    "## Ensemble generation\n",
    "\n",
    "We follow similar lines to AR6, but with a smaller ensemble (= time)"
   ]
  },
  {
   "cell_type": "code",
   "execution_count": 6,
   "id": "518c2a1d",
   "metadata": {},
   "outputs": [],
   "source": [
    "with open('../data_input/random_seeds.json', 'r') as filehandle:\n",
    "    SEEDS = json.load(filehandle)"
   ]
  },
  {
   "cell_type": "code",
   "execution_count": 7,
   "id": "dace843b",
   "metadata": {},
   "outputs": [],
   "source": [
    "SAMPLES = 100000\n",
    "F2XCO2_MEAN = 3.93\n",
    "F2XCO2_NINETY = 0.47\n",
    "NINETY_TO_ONESIGMA = st.norm.ppf(0.95)"
   ]
  },
  {
   "cell_type": "markdown",
   "id": "7661ae50",
   "metadata": {},
   "source": [
    "### Climate response"
   ]
  },
  {
   "cell_type": "code",
   "execution_count": 8,
   "id": "b9f0424f",
   "metadata": {},
   "outputs": [],
   "source": [
    "with open(\"../data_input/cmip6_twolayer_tuning_params.json\", \"r\") as read_file:\n",
    "    params = json.load(read_file)\n",
    "cmip6_models = list(params['q4x']['model_data']['EBM-epsilon'].keys())\n",
    "cmip6_models\n",
    "NMODELS = len(cmip6_models)\n",
    "\n",
    "geoff_data = np.zeros((NMODELS, 6))\n",
    "for im, model in enumerate(cmip6_models):\n",
    "    geoff_data[im,0] = params['q4x']['model_data']['EBM-epsilon'][model]\n",
    "    geoff_data[im,1] = params['lamg']['model_data']['EBM-epsilon'][model]\n",
    "    geoff_data[im,2] = params['cmix']['model_data']['EBM-epsilon'][model]\n",
    "    geoff_data[im,3] = params['cdeep']['model_data']['EBM-epsilon'][model]\n",
    "    geoff_data[im,4] = params['gamma_2l']['model_data']['EBM-epsilon'][model]\n",
    "    geoff_data[im,5] = params['eff']['model_data']['EBM-epsilon'][model]\n",
    "\n",
    "geoff_df = pd.DataFrame(geoff_data, columns=['q4x','lamg','cmix','cdeep','gamma_2l','eff'], index=cmip6_models)\n",
    "kde = st.gaussian_kde(geoff_df.T)\n",
    "geoff_sample = kde.resample(size=int(SAMPLES*1.25), seed = SEEDS[15])\n",
    "\n",
    "# remove unphysical combinations\n",
    "geoff_sample[:,geoff_sample[0,:] <= 0] = np.nan\n",
    "geoff_sample[1, :] = st.truncnorm.rvs(-2, 2, loc=-4/3, scale=0.5, size=int(SAMPLES*1.25), random_state=SEEDS[16])\n",
    "geoff_sample[:,geoff_sample[2,:] <= 0] = np.nan\n",
    "geoff_sample[:,geoff_sample[3,:] <= 0] = np.nan\n",
    "geoff_sample[:,geoff_sample[4,:] <= 0] = np.nan\n",
    "geoff_sample[:,geoff_sample[5,:] <= 0] = np.nan\n",
    "\n",
    "mask = np.all(np.isnan(geoff_sample), axis=0)\n",
    "geoff_sample = geoff_sample[:,~mask][:,:SAMPLES]\n",
    "geoff_sample_df=pd.DataFrame(data=geoff_sample.T, columns=['q4x','lamg','cmix','cdeep','gamma_2l','eff'])\n",
    "geoff_sample_df.to_csv('../data_output/geoff_sample.csv')\n",
    "geoff_sample_df\n",
    "\n",
    "f2x = st.norm.rvs(loc=F2XCO2_MEAN, scale=F2XCO2_NINETY/NINETY_TO_ONESIGMA, size=SAMPLES, random_state=SEEDS[73])\n",
    "\n",
    "ecs = -f2x/geoff_sample[1,:]\n",
    "tcr = f2x/(-geoff_sample[1,:] + geoff_sample[4,:]*geoff_sample[5,:])"
   ]
  },
  {
   "cell_type": "markdown",
   "id": "c5e418b0",
   "metadata": {},
   "source": [
    "### Forcing uncertainties"
   ]
  },
  {
   "cell_type": "code",
   "execution_count": 9,
   "id": "ebe1898a",
   "metadata": {},
   "outputs": [],
   "source": [
    "# these are standard deviations of the scale factor for normally distributed forcings (mean = 1). The list below is expressed in terms of 5-95% ranges.\n",
    "unc_ranges = np.array([\n",
    "    0.12,      # CO2\n",
    "    0.20,      # CH4: updated value from etminan 2016\n",
    "    0.14,      # N2O\n",
    "    0.19,      # other WMGHGs\n",
    "    0.50,      # Total ozone\n",
    "    1.00,      # stratospheric WV from CH4\n",
    "    0.70,      # contrails approx - half-normal\n",
    "    1.25,      # bc on snow - half-normal\n",
    "    0.50,      # land use change\n",
    "    5.0/20.0,  # volcanic\n",
    "    0.50,      # solar (amplitude)\n",
    "])/NINETY_TO_ONESIGMA\n",
    "\n",
    "NORMALS = len(unc_ranges)\n",
    "\n",
    "scale_normals = st.norm.rvs(\n",
    "    size=(SAMPLES,NORMALS),\n",
    "    loc=np.ones((SAMPLES,NORMALS)),\n",
    "    scale=np.ones((SAMPLES, NORMALS)) * unc_ranges[None,:],\n",
    "    random_state=SEEDS[4]\n",
    ")\n",
    "\n",
    "## bc snow is asymmetric Gaussian. We can just scale the half of the distribution above/below best estimate\n",
    "scale_normals[scale_normals[:,7]<1,7] = 0.08/0.1*(scale_normals[scale_normals[:,7]<1,7]-1) + 1\n",
    "\n",
    "## so is contrails - the benefits of doing this are tiny :)\n",
    "scale_normals[scale_normals[:,6]<1,6] = 0.0384/0.0406*(scale_normals[scale_normals[:,6]<1,6]-1) + 1\n",
    "\n",
    "trend_solar = st.norm.rvs(size=SAMPLES, loc=+0.01, scale=0.07/NINETY_TO_ONESIGMA, random_state=SEEDS[50])"
   ]
  },
  {
   "cell_type": "code",
   "execution_count": 10,
   "id": "579044ca",
   "metadata": {},
   "outputs": [],
   "source": [
    "with open(\"../data_input/cmip6_aerosol_coefficients.json\") as json_file:\n",
    "    cmip6_aerosol_data = json.load(json_file)"
   ]
  },
  {
   "cell_type": "code",
   "execution_count": 11,
   "id": "d768328d",
   "metadata": {},
   "outputs": [],
   "source": [
    "cmip6_aci = np.zeros((11, 2))\n",
    "for i, model in enumerate(['CanESM5', 'E3SM', 'GFDL-ESM4', 'GFDL-CM4', 'GISS-E2-1-G', 'HadGEM3-GC31-LL', 'IPSL-CM6A-LR', 'MIROC6', 'MRI-ESM2-0', 'NorESM2-LM', 'UKESM1-0-LL']):\n",
    "    for j, species in enumerate(['n0','n1']):\n",
    "        cmip6_aci[i,j] = np.log(cmip6_aerosol_data[model]['ERFaci'][species])\n",
    "kde = st.gaussian_kde(cmip6_aci.T)\n",
    "aci_coeffs=np.exp(kde.resample(size=int(SAMPLES), seed=SEEDS[8]).T)"
   ]
  },
  {
   "cell_type": "code",
   "execution_count": 12,
   "id": "4a8f909c",
   "metadata": {},
   "outputs": [],
   "source": [
    "bc_20101750 = st.norm.rvs(loc=0.3, scale=0.2/NINETY_TO_ONESIGMA, size=SAMPLES, random_state=SEEDS[95])\n",
    "oc_20101750 = st.norm.rvs(loc=-0.09, scale=0.07/NINETY_TO_ONESIGMA, size=SAMPLES, random_state=SEEDS[96])\n",
    "so2_20101750 = st.norm.rvs(loc=-0.4, scale=0.2/NINETY_TO_ONESIGMA, size=SAMPLES, random_state=SEEDS[97])\n",
    "nit_20101750 = st.norm.rvs(loc=-0.11, scale=0.05/NINETY_TO_ONESIGMA, size=SAMPLES, random_state=SEEDS[98])"
   ]
  },
  {
   "cell_type": "code",
   "execution_count": 13,
   "id": "38246e7a",
   "metadata": {},
   "outputs": [],
   "source": [
    "# Get SSP historical emissions\n",
    "ssp_df = pd.read_csv('../data_input_large/rcmip-emissions-annual-means-v5-1-0.csv')\n",
    "species = [\n",
    "    'Emissions|Sulfur',\n",
    "    'Emissions|BC',\n",
    "    'Emissions|OC',\n",
    "    'Emissions|NH3',\n",
    "    'Emissions|NOx'\n",
    "]\n",
    "\n",
    "unit_convert = np.ones(5)\n",
    "unit_convert[0] = 32/64 # follow zeb exactly, but would be better to use fair.constants.molwt\n",
    "unit_convert[4] = 14/46\n",
    "\n",
    "emissions_out = np.zeros((351,5))\n",
    "\n",
    "years_future = [2015] + list(range(2020,2101,10))\n",
    "for i, specie in enumerate(species):\n",
    "    emissions_out[:265,i] = ssp_df.loc[\n",
    "        (ssp_df['Model']=='MESSAGE-GLOBIOM')&\n",
    "        (ssp_df['Region']=='World')&\n",
    "        (ssp_df['Scenario']=='ssp245')&\n",
    "        (ssp_df['Variable']==specie),\n",
    "        '1750':'2014']*unit_convert[i]\n",
    "    f = interp1d(years_future, ssp_df.loc[\n",
    "        (ssp_df['Model']=='MESSAGE-GLOBIOM')&\n",
    "        (ssp_df['Region']=='World')&\n",
    "        (ssp_df['Scenario']=='ssp245')&\n",
    "        (ssp_df['Variable']==specie),'2015':'2100'\n",
    "    ].dropna(axis=1))\n",
    "    emissions_out[265:, i] = f(np.arange(2015, 2101))*unit_convert[i]"
   ]
  },
  {
   "cell_type": "code",
   "execution_count": null,
   "id": "8de94a2d",
   "metadata": {},
   "outputs": [],
   "source": []
  }
 ],
 "metadata": {
  "kernelspec": {
   "display_name": "Python 3 (ipykernel)",
   "language": "python",
   "name": "python3"
  },
  "language_info": {
   "codemirror_mode": {
    "name": "ipython",
    "version": 3
   },
   "file_extension": ".py",
   "mimetype": "text/x-python",
   "name": "python",
   "nbconvert_exporter": "python",
   "pygments_lexer": "ipython3",
   "version": "3.7.10"
  }
 },
 "nbformat": 4,
 "nbformat_minor": 5
}
